{
 "cells": [
  {
   "cell_type": "markdown",
   "id": "bf8369e1-fd9e-4024-b2ed-e9f531f51259",
   "metadata": {},
   "source": [
    "### Hudzaifah Alqarani\n",
    "### 2109106089"
   ]
  },
  {
   "cell_type": "markdown",
   "id": "4aaa0540-64e6-427d-ba30-39d9e4f427d2",
   "metadata": {},
   "source": [
    "## Import Library"
   ]
  },
  {
   "cell_type": "code",
   "execution_count": 1,
   "id": "b39d83d0-06fc-4396-91b0-c72270ac7588",
   "metadata": {},
   "outputs": [],
   "source": [
    "from sklearn.model_selection import train_test_split\n",
    "from sklearn.datasets import load_iris\n",
    "import pandas as pd\n",
    "from sklearn.preprocessing import StandardScaler\n",
    "from sklearn.preprocessing import MinMaxScaler\n",
    "import numpy as np\n",
    "from sklearn.impute import SimpleImputer"
   ]
  },
  {
   "cell_type": "markdown",
   "id": "77afcb23-c0e5-4ba6-ada3-33843f29d234",
   "metadata": {},
   "source": [
    "## Membaca dan menampikan data set"
   ]
  },
  {
   "cell_type": "code",
   "execution_count": 2,
   "id": "7742f0a4-e63d-4afa-acb0-6f55729fe740",
   "metadata": {},
   "outputs": [
    {
     "data": {
      "text/html": [
       "<div>\n",
       "<style scoped>\n",
       "    .dataframe tbody tr th:only-of-type {\n",
       "        vertical-align: middle;\n",
       "    }\n",
       "\n",
       "    .dataframe tbody tr th {\n",
       "        vertical-align: top;\n",
       "    }\n",
       "\n",
       "    .dataframe thead th {\n",
       "        text-align: right;\n",
       "    }\n",
       "</style>\n",
       "<table border=\"1\" class=\"dataframe\">\n",
       "  <thead>\n",
       "    <tr style=\"text-align: right;\">\n",
       "      <th></th>\n",
       "      <th>Condition</th>\n",
       "      <th>Drug</th>\n",
       "      <th>EaseOfUse</th>\n",
       "      <th>Effective</th>\n",
       "      <th>Form</th>\n",
       "      <th>Indication</th>\n",
       "      <th>Price</th>\n",
       "      <th>Reviews</th>\n",
       "      <th>Satisfaction</th>\n",
       "      <th>Type</th>\n",
       "    </tr>\n",
       "  </thead>\n",
       "  <tbody>\n",
       "    <tr>\n",
       "      <th>0</th>\n",
       "      <td>Acute Bacterial Sinusitis</td>\n",
       "      <td>Amoxicillin</td>\n",
       "      <td>3.852353</td>\n",
       "      <td>3.655882</td>\n",
       "      <td>Capsule</td>\n",
       "      <td>On Label</td>\n",
       "      <td>12.590000</td>\n",
       "      <td>86.294118</td>\n",
       "      <td>3.197647</td>\n",
       "      <td>RX</td>\n",
       "    </tr>\n",
       "    <tr>\n",
       "      <th>1</th>\n",
       "      <td>Acute Bacterial Sinusitis</td>\n",
       "      <td>Amoxicillin-Pot Clavulanate</td>\n",
       "      <td>3.470000</td>\n",
       "      <td>3.290000</td>\n",
       "      <td>Liquid (Drink)</td>\n",
       "      <td>Off Label</td>\n",
       "      <td>287.370000</td>\n",
       "      <td>43.000000</td>\n",
       "      <td>2.590000</td>\n",
       "      <td>RX</td>\n",
       "    </tr>\n",
       "    <tr>\n",
       "      <th>2</th>\n",
       "      <td>Acute Bacterial Sinusitis</td>\n",
       "      <td>Amoxicillin-Pot Clavulanate</td>\n",
       "      <td>3.121429</td>\n",
       "      <td>2.962857</td>\n",
       "      <td>Tablet</td>\n",
       "      <td>On Label</td>\n",
       "      <td>70.608571</td>\n",
       "      <td>267.285714</td>\n",
       "      <td>2.248571</td>\n",
       "      <td>RX</td>\n",
       "    </tr>\n",
       "    <tr>\n",
       "      <th>3</th>\n",
       "      <td>Acute Bacterial Sinusitis</td>\n",
       "      <td>Ampicillin</td>\n",
       "      <td>2.000000</td>\n",
       "      <td>3.000000</td>\n",
       "      <td>Capsule</td>\n",
       "      <td>On Label</td>\n",
       "      <td>12.590000</td>\n",
       "      <td>1.000000</td>\n",
       "      <td>1.000000</td>\n",
       "      <td>RX</td>\n",
       "    </tr>\n",
       "    <tr>\n",
       "      <th>4</th>\n",
       "      <td>Acute Bacterial Sinusitis</td>\n",
       "      <td>Ampicillin</td>\n",
       "      <td>3.250000</td>\n",
       "      <td>3.000000</td>\n",
       "      <td>Tablet</td>\n",
       "      <td>On Label</td>\n",
       "      <td>125.240000</td>\n",
       "      <td>15.000000</td>\n",
       "      <td>3.000000</td>\n",
       "      <td>RX</td>\n",
       "    </tr>\n",
       "    <tr>\n",
       "      <th>...</th>\n",
       "      <td>...</td>\n",
       "      <td>...</td>\n",
       "      <td>...</td>\n",
       "      <td>...</td>\n",
       "      <td>...</td>\n",
       "      <td>...</td>\n",
       "      <td>...</td>\n",
       "      <td>...</td>\n",
       "      <td>...</td>\n",
       "      <td>...</td>\n",
       "    </tr>\n",
       "    <tr>\n",
       "      <th>680</th>\n",
       "      <td>vulvovaginal candidiasis</td>\n",
       "      <td>Miconazole Nitrate</td>\n",
       "      <td>3.465000</td>\n",
       "      <td>2.770000</td>\n",
       "      <td>Cream</td>\n",
       "      <td>On Label</td>\n",
       "      <td>13.990000</td>\n",
       "      <td>19.500000</td>\n",
       "      <td>2.345000</td>\n",
       "      <td>RX/OTC</td>\n",
       "    </tr>\n",
       "    <tr>\n",
       "      <th>681</th>\n",
       "      <td>vulvovaginal candidiasis</td>\n",
       "      <td>Miconazole-Skin Clnsr17</td>\n",
       "      <td>4.750000</td>\n",
       "      <td>3.000000</td>\n",
       "      <td>Cream</td>\n",
       "      <td>On Label</td>\n",
       "      <td>13.990000</td>\n",
       "      <td>4.000000</td>\n",
       "      <td>3.000000</td>\n",
       "      <td>OTC</td>\n",
       "    </tr>\n",
       "    <tr>\n",
       "      <th>682</th>\n",
       "      <td>vulvovaginal candidiasis</td>\n",
       "      <td>Miconazole-Skin Clnsr17</td>\n",
       "      <td>4.000000</td>\n",
       "      <td>1.000000</td>\n",
       "      <td>Other</td>\n",
       "      <td>On Label</td>\n",
       "      <td>125.990000</td>\n",
       "      <td>1.000000</td>\n",
       "      <td>1.000000</td>\n",
       "      <td>OTC</td>\n",
       "    </tr>\n",
       "    <tr>\n",
       "      <th>683</th>\n",
       "      <td>vulvovaginal candidiasis</td>\n",
       "      <td>Terconazole</td>\n",
       "      <td>3.525000</td>\n",
       "      <td>3.047500</td>\n",
       "      <td>Cream</td>\n",
       "      <td>On Label</td>\n",
       "      <td>68.990000</td>\n",
       "      <td>20.000000</td>\n",
       "      <td>2.717500</td>\n",
       "      <td>RX</td>\n",
       "    </tr>\n",
       "    <tr>\n",
       "      <th>684</th>\n",
       "      <td>vulvovaginal candidiasis</td>\n",
       "      <td>Tioconazole</td>\n",
       "      <td>3.852500</td>\n",
       "      <td>2.022500</td>\n",
       "      <td>Other</td>\n",
       "      <td>On Label</td>\n",
       "      <td>22.990000</td>\n",
       "      <td>145.000000</td>\n",
       "      <td>1.827500</td>\n",
       "      <td>OTC</td>\n",
       "    </tr>\n",
       "  </tbody>\n",
       "</table>\n",
       "<p>685 rows × 10 columns</p>\n",
       "</div>"
      ],
      "text/plain": [
       "                     Condition                         Drug  EaseOfUse  \\\n",
       "0    Acute Bacterial Sinusitis                  Amoxicillin   3.852353   \n",
       "1    Acute Bacterial Sinusitis  Amoxicillin-Pot Clavulanate   3.470000   \n",
       "2    Acute Bacterial Sinusitis  Amoxicillin-Pot Clavulanate   3.121429   \n",
       "3    Acute Bacterial Sinusitis                   Ampicillin   2.000000   \n",
       "4    Acute Bacterial Sinusitis                   Ampicillin   3.250000   \n",
       "..                         ...                          ...        ...   \n",
       "680   vulvovaginal candidiasis           Miconazole Nitrate   3.465000   \n",
       "681   vulvovaginal candidiasis      Miconazole-Skin Clnsr17   4.750000   \n",
       "682   vulvovaginal candidiasis      Miconazole-Skin Clnsr17   4.000000   \n",
       "683   vulvovaginal candidiasis                  Terconazole   3.525000   \n",
       "684   vulvovaginal candidiasis                  Tioconazole   3.852500   \n",
       "\n",
       "     Effective            Form Indication       Price     Reviews  \\\n",
       "0     3.655882         Capsule   On Label   12.590000   86.294118   \n",
       "1     3.290000  Liquid (Drink)  Off Label  287.370000   43.000000   \n",
       "2     2.962857          Tablet   On Label   70.608571  267.285714   \n",
       "3     3.000000         Capsule   On Label   12.590000    1.000000   \n",
       "4     3.000000          Tablet   On Label  125.240000   15.000000   \n",
       "..         ...             ...        ...         ...         ...   \n",
       "680   2.770000           Cream   On Label   13.990000   19.500000   \n",
       "681   3.000000           Cream   On Label   13.990000    4.000000   \n",
       "682   1.000000           Other   On Label  125.990000    1.000000   \n",
       "683   3.047500           Cream   On Label   68.990000   20.000000   \n",
       "684   2.022500           Other   On Label   22.990000  145.000000   \n",
       "\n",
       "     Satisfaction    Type  \n",
       "0        3.197647      RX  \n",
       "1        2.590000      RX  \n",
       "2        2.248571      RX  \n",
       "3        1.000000      RX  \n",
       "4        3.000000      RX  \n",
       "..            ...     ...  \n",
       "680      2.345000  RX/OTC  \n",
       "681      3.000000     OTC  \n",
       "682      1.000000     OTC  \n",
       "683      2.717500      RX  \n",
       "684      1.827500     OTC  \n",
       "\n",
       "[685 rows x 10 columns]"
      ]
     },
     "execution_count": 2,
     "metadata": {},
     "output_type": "execute_result"
    }
   ],
   "source": [
    "df = pd.read_csv(\"Drug_clean.csv\")\n",
    "df"
   ]
  },
  {
   "cell_type": "markdown",
   "id": "ac29ed67-b759-4cfa-a02e-84b765261a5c",
   "metadata": {},
   "source": [
    "## Bagi dataset menjadi training set dan testing set dengan proporsi 70:30"
   ]
  },
  {
   "cell_type": "code",
   "execution_count": 3,
   "id": "3cb1b5c9-b4bb-404a-8b0c-e5ab80270bbf",
   "metadata": {},
   "outputs": [],
   "source": [
    "x = df.iloc[:, :-1] # feature\n",
    "y = df.iloc[:, -1] # target\n",
    "x_train, x_test, y_train, y_test = train_test_split(x, y, test_size=0.3, train_size=0.7)"
   ]
  },
  {
   "cell_type": "markdown",
   "id": "474a4c14-940d-44f0-847f-79a55fd2c540",
   "metadata": {},
   "source": [
    "### Print jumlah row dan kolom dari x train, x test, y train, y test"
   ]
  },
  {
   "cell_type": "code",
   "execution_count": 4,
   "id": "7534c5e5-6e0f-48ce-bad7-787fb016d7f0",
   "metadata": {},
   "outputs": [
    {
     "name": "stdout",
     "output_type": "stream",
     "text": [
      "Ini x train =>  (479, 9)\n",
      "Ini x test  =>  (206, 9)\n",
      "Ini y train =>  (479,)\n",
      "Ini y test  =>  (206,)\n"
     ]
    }
   ],
   "source": [
    "print('Ini x train => ', x_train.shape)\n",
    "print('Ini x test  => ', x_test.shape)\n",
    "print('Ini y train => ', y_train.shape)\n",
    "print('Ini y test  => ', y_test.shape)"
   ]
  },
  {
   "cell_type": "markdown",
   "id": "635055e4-ea66-4f33-a721-cb65c21160e0",
   "metadata": {},
   "source": [
    "### Menampilkan isi data x train"
   ]
  },
  {
   "cell_type": "code",
   "execution_count": 5,
   "id": "4f6e007f-9077-4fd5-a6e1-73d823f4d2eb",
   "metadata": {},
   "outputs": [
    {
     "data": {
      "text/html": [
       "<div>\n",
       "<style scoped>\n",
       "    .dataframe tbody tr th:only-of-type {\n",
       "        vertical-align: middle;\n",
       "    }\n",
       "\n",
       "    .dataframe tbody tr th {\n",
       "        vertical-align: top;\n",
       "    }\n",
       "\n",
       "    .dataframe thead th {\n",
       "        text-align: right;\n",
       "    }\n",
       "</style>\n",
       "<table border=\"1\" class=\"dataframe\">\n",
       "  <thead>\n",
       "    <tr style=\"text-align: right;\">\n",
       "      <th></th>\n",
       "      <th>Condition</th>\n",
       "      <th>Drug</th>\n",
       "      <th>EaseOfUse</th>\n",
       "      <th>Effective</th>\n",
       "      <th>Form</th>\n",
       "      <th>Indication</th>\n",
       "      <th>Price</th>\n",
       "      <th>Reviews</th>\n",
       "      <th>Satisfaction</th>\n",
       "    </tr>\n",
       "  </thead>\n",
       "  <tbody>\n",
       "    <tr>\n",
       "      <th>23</th>\n",
       "      <td>Atopic Dermatitis</td>\n",
       "      <td>Clobetasol</td>\n",
       "      <td>4.3525</td>\n",
       "      <td>3.942500</td>\n",
       "      <td>Liquid (Drink)</td>\n",
       "      <td>On Label</td>\n",
       "      <td>174.99</td>\n",
       "      <td>90.375000</td>\n",
       "      <td>3.690000</td>\n",
       "    </tr>\n",
       "    <tr>\n",
       "      <th>426</th>\n",
       "      <td>gout</td>\n",
       "      <td>Celecoxib</td>\n",
       "      <td>3.9850</td>\n",
       "      <td>3.425000</td>\n",
       "      <td>Capsule</td>\n",
       "      <td>Off Label</td>\n",
       "      <td>215.99</td>\n",
       "      <td>394.000000</td>\n",
       "      <td>3.155000</td>\n",
       "    </tr>\n",
       "    <tr>\n",
       "      <th>550</th>\n",
       "      <td>hypertension</td>\n",
       "      <td>Chlorthalidone</td>\n",
       "      <td>4.3000</td>\n",
       "      <td>2.673333</td>\n",
       "      <td>Tablet</td>\n",
       "      <td>On Label</td>\n",
       "      <td>37.99</td>\n",
       "      <td>24.333333</td>\n",
       "      <td>2.416667</td>\n",
       "    </tr>\n",
       "    <tr>\n",
       "      <th>621</th>\n",
       "      <td>hypertension</td>\n",
       "      <td>Verapamil</td>\n",
       "      <td>5.0000</td>\n",
       "      <td>4.000000</td>\n",
       "      <td>Capsule</td>\n",
       "      <td>On Label</td>\n",
       "      <td>172.39</td>\n",
       "      <td>6.000000</td>\n",
       "      <td>4.000000</td>\n",
       "    </tr>\n",
       "    <tr>\n",
       "      <th>367</th>\n",
       "      <td>gastroesophageal reflux disease</td>\n",
       "      <td>Al Hyd-Mg Tr-Alg Ac-Sod Bicarb</td>\n",
       "      <td>2.0000</td>\n",
       "      <td>2.000000</td>\n",
       "      <td>Liquid (Drink)</td>\n",
       "      <td>Off Label</td>\n",
       "      <td>5.99</td>\n",
       "      <td>1.000000</td>\n",
       "      <td>1.000000</td>\n",
       "    </tr>\n",
       "    <tr>\n",
       "      <th>...</th>\n",
       "      <td>...</td>\n",
       "      <td>...</td>\n",
       "      <td>...</td>\n",
       "      <td>...</td>\n",
       "      <td>...</td>\n",
       "      <td>...</td>\n",
       "      <td>...</td>\n",
       "      <td>...</td>\n",
       "      <td>...</td>\n",
       "    </tr>\n",
       "    <tr>\n",
       "      <th>8</th>\n",
       "      <td>Acute Bacterial Sinusitis</td>\n",
       "      <td>Erythromycin</td>\n",
       "      <td>2.8950</td>\n",
       "      <td>3.255000</td>\n",
       "      <td>Tablet</td>\n",
       "      <td>On Label</td>\n",
       "      <td>125.24</td>\n",
       "      <td>41.000000</td>\n",
       "      <td>2.510000</td>\n",
       "    </tr>\n",
       "    <tr>\n",
       "      <th>534</th>\n",
       "      <td>hypertension</td>\n",
       "      <td>Azilsartan Med-Chlorthalidone</td>\n",
       "      <td>4.4200</td>\n",
       "      <td>4.340000</td>\n",
       "      <td>Liquid (Drink)</td>\n",
       "      <td>On Label</td>\n",
       "      <td>255.99</td>\n",
       "      <td>37.500000</td>\n",
       "      <td>3.765000</td>\n",
       "    </tr>\n",
       "    <tr>\n",
       "      <th>468</th>\n",
       "      <td>hemorrhoids</td>\n",
       "      <td>Lidocaine</td>\n",
       "      <td>4.6000</td>\n",
       "      <td>4.133333</td>\n",
       "      <td>Other</td>\n",
       "      <td>On Label</td>\n",
       "      <td>294.99</td>\n",
       "      <td>6.666667</td>\n",
       "      <td>4.133333</td>\n",
       "    </tr>\n",
       "    <tr>\n",
       "      <th>345</th>\n",
       "      <td>fibromyalgia</td>\n",
       "      <td>Pramipexole</td>\n",
       "      <td>4.2700</td>\n",
       "      <td>3.986667</td>\n",
       "      <td>Tablet</td>\n",
       "      <td>Off Label</td>\n",
       "      <td>89.99</td>\n",
       "      <td>166.666667</td>\n",
       "      <td>3.776667</td>\n",
       "    </tr>\n",
       "    <tr>\n",
       "      <th>264</th>\n",
       "      <td>endometriosis</td>\n",
       "      <td>Norethin-Eth Estrad Biphasic</td>\n",
       "      <td>4.2500</td>\n",
       "      <td>4.500000</td>\n",
       "      <td>Tablet</td>\n",
       "      <td>Off Label</td>\n",
       "      <td>31.99</td>\n",
       "      <td>4.000000</td>\n",
       "      <td>3.000000</td>\n",
       "    </tr>\n",
       "  </tbody>\n",
       "</table>\n",
       "<p>479 rows × 9 columns</p>\n",
       "</div>"
      ],
      "text/plain": [
       "                           Condition                            Drug  \\\n",
       "23                 Atopic Dermatitis                      Clobetasol   \n",
       "426                             gout                       Celecoxib   \n",
       "550                     hypertension                  Chlorthalidone   \n",
       "621                     hypertension                       Verapamil   \n",
       "367  gastroesophageal reflux disease  Al Hyd-Mg Tr-Alg Ac-Sod Bicarb   \n",
       "..                               ...                             ...   \n",
       "8          Acute Bacterial Sinusitis                    Erythromycin   \n",
       "534                     hypertension   Azilsartan Med-Chlorthalidone   \n",
       "468                      hemorrhoids                       Lidocaine   \n",
       "345                     fibromyalgia                     Pramipexole   \n",
       "264                    endometriosis    Norethin-Eth Estrad Biphasic   \n",
       "\n",
       "     EaseOfUse  Effective            Form Indication   Price     Reviews  \\\n",
       "23      4.3525   3.942500  Liquid (Drink)   On Label  174.99   90.375000   \n",
       "426     3.9850   3.425000         Capsule  Off Label  215.99  394.000000   \n",
       "550     4.3000   2.673333          Tablet   On Label   37.99   24.333333   \n",
       "621     5.0000   4.000000         Capsule   On Label  172.39    6.000000   \n",
       "367     2.0000   2.000000  Liquid (Drink)  Off Label    5.99    1.000000   \n",
       "..         ...        ...             ...        ...     ...         ...   \n",
       "8       2.8950   3.255000          Tablet   On Label  125.24   41.000000   \n",
       "534     4.4200   4.340000  Liquid (Drink)   On Label  255.99   37.500000   \n",
       "468     4.6000   4.133333           Other   On Label  294.99    6.666667   \n",
       "345     4.2700   3.986667          Tablet  Off Label   89.99  166.666667   \n",
       "264     4.2500   4.500000          Tablet  Off Label   31.99    4.000000   \n",
       "\n",
       "     Satisfaction  \n",
       "23       3.690000  \n",
       "426      3.155000  \n",
       "550      2.416667  \n",
       "621      4.000000  \n",
       "367      1.000000  \n",
       "..            ...  \n",
       "8        2.510000  \n",
       "534      3.765000  \n",
       "468      4.133333  \n",
       "345      3.776667  \n",
       "264      3.000000  \n",
       "\n",
       "[479 rows x 9 columns]"
      ]
     },
     "execution_count": 5,
     "metadata": {},
     "output_type": "execute_result"
    }
   ],
   "source": [
    "x_train"
   ]
  },
  {
   "cell_type": "markdown",
   "id": "24940e5f-0992-4b72-921c-9a7f1cf3c56d",
   "metadata": {},
   "source": [
    "### Menampilkan isi data y train"
   ]
  },
  {
   "cell_type": "code",
   "execution_count": 6,
   "id": "26a318d4-c09b-43e8-aa6c-719d698b59e6",
   "metadata": {},
   "outputs": [
    {
     "data": {
      "text/plain": [
       "23      RX\n",
       "426     RX\n",
       "550     RX\n",
       "621     RX\n",
       "367    OTC\n",
       "      ... \n",
       "8       RX\n",
       "534     RX\n",
       "468    OTC\n",
       "345     RX\n",
       "264     RX\n",
       "Name: Type, Length: 479, dtype: object"
      ]
     },
     "execution_count": 6,
     "metadata": {},
     "output_type": "execute_result"
    }
   ],
   "source": [
    "y_train"
   ]
  },
  {
   "cell_type": "markdown",
   "id": "41b3fa7e-d25d-40ff-adc4-f04bbb119e7b",
   "metadata": {},
   "source": [
    "### Menampilkan isi data x test"
   ]
  },
  {
   "cell_type": "code",
   "execution_count": 7,
   "id": "75b5ebe0-b7c0-4370-8071-a7a2f110a988",
   "metadata": {},
   "outputs": [
    {
     "data": {
      "text/html": [
       "<div>\n",
       "<style scoped>\n",
       "    .dataframe tbody tr th:only-of-type {\n",
       "        vertical-align: middle;\n",
       "    }\n",
       "\n",
       "    .dataframe tbody tr th {\n",
       "        vertical-align: top;\n",
       "    }\n",
       "\n",
       "    .dataframe thead th {\n",
       "        text-align: right;\n",
       "    }\n",
       "</style>\n",
       "<table border=\"1\" class=\"dataframe\">\n",
       "  <thead>\n",
       "    <tr style=\"text-align: right;\">\n",
       "      <th></th>\n",
       "      <th>Condition</th>\n",
       "      <th>Drug</th>\n",
       "      <th>EaseOfUse</th>\n",
       "      <th>Effective</th>\n",
       "      <th>Form</th>\n",
       "      <th>Indication</th>\n",
       "      <th>Price</th>\n",
       "      <th>Reviews</th>\n",
       "      <th>Satisfaction</th>\n",
       "    </tr>\n",
       "  </thead>\n",
       "  <tbody>\n",
       "    <tr>\n",
       "      <th>162</th>\n",
       "      <td>Pharyngitis due to Streptococcus Pyogenes</td>\n",
       "      <td>Cefixime</td>\n",
       "      <td>3.09</td>\n",
       "      <td>2.7300</td>\n",
       "      <td>Tablet</td>\n",
       "      <td>On Label</td>\n",
       "      <td>125.24</td>\n",
       "      <td>47.00</td>\n",
       "      <td>1.4500</td>\n",
       "    </tr>\n",
       "    <tr>\n",
       "      <th>152</th>\n",
       "      <td>Infantile Autism</td>\n",
       "      <td>Risperidone</td>\n",
       "      <td>3.28</td>\n",
       "      <td>2.7025</td>\n",
       "      <td>Tablet</td>\n",
       "      <td>On Label</td>\n",
       "      <td>39.49</td>\n",
       "      <td>216.75</td>\n",
       "      <td>2.2125</td>\n",
       "    </tr>\n",
       "    <tr>\n",
       "      <th>605</th>\n",
       "      <td>hypertension</td>\n",
       "      <td>Ramipril</td>\n",
       "      <td>4.43</td>\n",
       "      <td>3.9200</td>\n",
       "      <td>Capsule</td>\n",
       "      <td>On Label</td>\n",
       "      <td>54.99</td>\n",
       "      <td>156.00</td>\n",
       "      <td>3.5000</td>\n",
       "    </tr>\n",
       "    <tr>\n",
       "      <th>481</th>\n",
       "      <td>hemorrhoids</td>\n",
       "      <td>Pramoxine-Calamine</td>\n",
       "      <td>3.00</td>\n",
       "      <td>5.0000</td>\n",
       "      <td>Liquid (Drink)</td>\n",
       "      <td>On Label</td>\n",
       "      <td>9.68</td>\n",
       "      <td>1.00</td>\n",
       "      <td>5.0000</td>\n",
       "    </tr>\n",
       "    <tr>\n",
       "      <th>454</th>\n",
       "      <td>gout</td>\n",
       "      <td>Pseudoephedrine-Ibuprofen, Ibuprofen</td>\n",
       "      <td>5.00</td>\n",
       "      <td>5.0000</td>\n",
       "      <td>Liquid (Drink)</td>\n",
       "      <td>Off Label</td>\n",
       "      <td>18.99</td>\n",
       "      <td>1.00</td>\n",
       "      <td>5.0000</td>\n",
       "    </tr>\n",
       "    <tr>\n",
       "      <th>...</th>\n",
       "      <td>...</td>\n",
       "      <td>...</td>\n",
       "      <td>...</td>\n",
       "      <td>...</td>\n",
       "      <td>...</td>\n",
       "      <td>...</td>\n",
       "      <td>...</td>\n",
       "      <td>...</td>\n",
       "      <td>...</td>\n",
       "    </tr>\n",
       "    <tr>\n",
       "      <th>126</th>\n",
       "      <td>Bacterial Urinary Tract Infection</td>\n",
       "      <td>Ciprofloxacin Hcl</td>\n",
       "      <td>3.43</td>\n",
       "      <td>3.5700</td>\n",
       "      <td>Tablet</td>\n",
       "      <td>On Label</td>\n",
       "      <td>18.75</td>\n",
       "      <td>22.00</td>\n",
       "      <td>3.0000</td>\n",
       "    </tr>\n",
       "    <tr>\n",
       "      <th>608</th>\n",
       "      <td>hypertension</td>\n",
       "      <td>Telmisartan</td>\n",
       "      <td>3.83</td>\n",
       "      <td>3.6500</td>\n",
       "      <td>Tablet</td>\n",
       "      <td>On Label</td>\n",
       "      <td>146.99</td>\n",
       "      <td>104.50</td>\n",
       "      <td>3.1650</td>\n",
       "    </tr>\n",
       "    <tr>\n",
       "      <th>199</th>\n",
       "      <td>back pain</td>\n",
       "      <td>Trolamine Salicylate, Ala-Bos-Gin-Bas-Rose-Tur...</td>\n",
       "      <td>3.00</td>\n",
       "      <td>5.0000</td>\n",
       "      <td>Cream</td>\n",
       "      <td>\\r\\r\\n</td>\n",
       "      <td>11.99</td>\n",
       "      <td>2.00</td>\n",
       "      <td>3.0000</td>\n",
       "    </tr>\n",
       "    <tr>\n",
       "      <th>380</th>\n",
       "      <td>gastroesophageal reflux disease</td>\n",
       "      <td>Calcium Carbonate-Mag Hydroxid, Calcium Carbon...</td>\n",
       "      <td>1.00</td>\n",
       "      <td>1.0000</td>\n",
       "      <td>Liquid (Drink)</td>\n",
       "      <td>Off Label</td>\n",
       "      <td>5.99</td>\n",
       "      <td>1.00</td>\n",
       "      <td>1.0000</td>\n",
       "    </tr>\n",
       "    <tr>\n",
       "      <th>643</th>\n",
       "      <td>prevention of cerebrovascular accident</td>\n",
       "      <td>Pravastatin</td>\n",
       "      <td>3.66</td>\n",
       "      <td>2.8500</td>\n",
       "      <td>Tablet</td>\n",
       "      <td>On Label</td>\n",
       "      <td>28.99</td>\n",
       "      <td>534.00</td>\n",
       "      <td>2.0700</td>\n",
       "    </tr>\n",
       "  </tbody>\n",
       "</table>\n",
       "<p>206 rows × 9 columns</p>\n",
       "</div>"
      ],
      "text/plain": [
       "                                     Condition  \\\n",
       "162  Pharyngitis due to Streptococcus Pyogenes   \n",
       "152                           Infantile Autism   \n",
       "605                               hypertension   \n",
       "481                                hemorrhoids   \n",
       "454                                       gout   \n",
       "..                                         ...   \n",
       "126          Bacterial Urinary Tract Infection   \n",
       "608                               hypertension   \n",
       "199                                  back pain   \n",
       "380            gastroesophageal reflux disease   \n",
       "643     prevention of cerebrovascular accident   \n",
       "\n",
       "                                                  Drug  EaseOfUse  Effective  \\\n",
       "162                                           Cefixime       3.09     2.7300   \n",
       "152                                        Risperidone       3.28     2.7025   \n",
       "605                                           Ramipril       4.43     3.9200   \n",
       "481                                 Pramoxine-Calamine       3.00     5.0000   \n",
       "454               Pseudoephedrine-Ibuprofen, Ibuprofen       5.00     5.0000   \n",
       "..                                                 ...        ...        ...   \n",
       "126                                  Ciprofloxacin Hcl       3.43     3.5700   \n",
       "608                                        Telmisartan       3.83     3.6500   \n",
       "199  Trolamine Salicylate, Ala-Bos-Gin-Bas-Rose-Tur...       3.00     5.0000   \n",
       "380  Calcium Carbonate-Mag Hydroxid, Calcium Carbon...       1.00     1.0000   \n",
       "643                                        Pravastatin       3.66     2.8500   \n",
       "\n",
       "               Form Indication   Price  Reviews  Satisfaction  \n",
       "162          Tablet   On Label  125.24    47.00        1.4500  \n",
       "152          Tablet   On Label   39.49   216.75        2.2125  \n",
       "605         Capsule   On Label   54.99   156.00        3.5000  \n",
       "481  Liquid (Drink)   On Label    9.68     1.00        5.0000  \n",
       "454  Liquid (Drink)  Off Label   18.99     1.00        5.0000  \n",
       "..              ...        ...     ...      ...           ...  \n",
       "126          Tablet   On Label   18.75    22.00        3.0000  \n",
       "608          Tablet   On Label  146.99   104.50        3.1650  \n",
       "199           Cream     \\r\\r\\n   11.99     2.00        3.0000  \n",
       "380  Liquid (Drink)  Off Label    5.99     1.00        1.0000  \n",
       "643          Tablet   On Label   28.99   534.00        2.0700  \n",
       "\n",
       "[206 rows x 9 columns]"
      ]
     },
     "execution_count": 7,
     "metadata": {},
     "output_type": "execute_result"
    }
   ],
   "source": [
    "x_test"
   ]
  },
  {
   "cell_type": "markdown",
   "id": "987fcf5d-64a8-48b1-8b02-03cb88790c6a",
   "metadata": {},
   "source": [
    "### Menampilkan isi data y test"
   ]
  },
  {
   "cell_type": "code",
   "execution_count": 8,
   "id": "30c4347a-8980-4568-bf08-24a757d0c601",
   "metadata": {},
   "outputs": [
    {
     "data": {
      "text/plain": [
       "162     RX\n",
       "152     RX\n",
       "605     RX\n",
       "481    OTC\n",
       "454    OTC\n",
       "      ... \n",
       "126     RX\n",
       "608     RX\n",
       "199    OTC\n",
       "380    OTC\n",
       "643     RX\n",
       "Name: Type, Length: 206, dtype: object"
      ]
     },
     "execution_count": 8,
     "metadata": {},
     "output_type": "execute_result"
    }
   ],
   "source": [
    "y_test"
   ]
  },
  {
   "cell_type": "markdown",
   "id": "99dc8390-fe44-4bb2-9129-61f6038a69f1",
   "metadata": {},
   "source": [
    "##  Normalisasi data pada salah satu attribute menggunakan Min Max scaler"
   ]
  },
  {
   "cell_type": "code",
   "execution_count": 9,
   "id": "6fbab0a0-f576-48f7-b200-db800f616be1",
   "metadata": {},
   "outputs": [],
   "source": [
    "dataset =  df.copy()\n",
    "Scaler = MinMaxScaler()\n",
    "Normalized_Data = Scaler.fit_transform(dataset[['Satisfaction']])\n",
    "dataset['Satisfaction'] = Normalized_Data"
   ]
  },
  {
   "cell_type": "code",
   "execution_count": 10,
   "id": "00331fec-7c9b-4be4-ae47-d1df716c4932",
   "metadata": {},
   "outputs": [
    {
     "name": "stdout",
     "output_type": "stream",
     "text": [
      "sebelum dinormalisasi: \n",
      "count    685.000000\n",
      "mean       3.195699\n",
      "std        1.030442\n",
      "min        1.000000\n",
      "25%        2.575000\n",
      "50%        3.200000\n",
      "75%        3.901250\n",
      "max        5.000000\n",
      "Name: Satisfaction, dtype: float64\n",
      "\n",
      "\n",
      "setelah dinormalisasi: \n",
      "count    685.000000\n",
      "mean       0.548925\n",
      "std        0.257610\n",
      "min        0.000000\n",
      "25%        0.393750\n",
      "50%        0.550000\n",
      "75%        0.725313\n",
      "max        1.000000\n",
      "Name: Satisfaction, dtype: float64\n"
     ]
    }
   ],
   "source": [
    "print(\"sebelum dinormalisasi: \")\n",
    "print(df['Satisfaction'].describe())\n",
    "print('\\n')\n",
    "print(\"setelah dinormalisasi: \")\n",
    "print(dataset['Satisfaction'].describe())"
   ]
  },
  {
   "cell_type": "markdown",
   "id": "a800a3e8-228f-434d-8ae3-7ff903321e73",
   "metadata": {},
   "source": [
    "## Standarisasi"
   ]
  },
  {
   "cell_type": "code",
   "execution_count": 11,
   "id": "7ee0af44-505f-4689-9772-0bd87dd3a9ec",
   "metadata": {},
   "outputs": [],
   "source": [
    "dataset1 =  df.copy()\n",
    "Scaler = StandardScaler()\n",
    "Scaled_Data = Scaler.fit_transform(dataset[['Satisfaction']])\n",
    "dataset1['Satisfaction'] = Scaled_Data"
   ]
  },
  {
   "cell_type": "markdown",
   "id": "40c41354-ee56-4e75-b199-e0d985b1f9be",
   "metadata": {},
   "source": [
    "### Menampilkan hasil dari standar deviasi sebelum di standarisasi, dan setelah di standarisasi"
   ]
  },
  {
   "cell_type": "code",
   "execution_count": 12,
   "id": "6ecf6b6e-cf2a-4d1e-aa07-cb317b336e4b",
   "metadata": {},
   "outputs": [
    {
     "name": "stdout",
     "output_type": "stream",
     "text": [
      "sebelum dinormalisasi : \n",
      "Nilai Standar deviasi >>  1.029689218952914\n",
      "\n",
      "\n",
      "setelah distandarisasi : \n",
      "Nilai Standar deviasi >>  1.0\n"
     ]
    }
   ],
   "source": [
    "print(\"sebelum dinormalisasi : \")\n",
    "print(\"Nilai Standar deviasi >> \", np.std(df['Satisfaction']))\n",
    "print('\\n')\n",
    "print(\"setelah distandarisasi : \")\n",
    "print(\"Nilai Standar deviasi >> \", np.std(dataset1['Satisfaction']))"
   ]
  },
  {
   "cell_type": "markdown",
   "id": "f392c358-099c-4818-a7d0-7b08f5df12d9",
   "metadata": {},
   "source": [
    "## Data cleaning\r\n",
    "1. Mengubah tipe data goal dari Object menjadi Float 64\r\n",
    "2. Membuat kolom Goal, Pledged, dan Country menjadi Null menggunakan np.nan\r\n",
    "3. Menampilkan banyak nya nilai null pada kolom Goal, Pledged, dan Country menggunakan :\r\n",
    "(\"dataset['Kolom'].isna().sum()\")()\")"
   ]
  },
  {
   "cell_type": "code",
   "execution_count": 13,
   "id": "51439872-e6da-4ada-bc35-773d2a3c68bb",
   "metadata": {},
   "outputs": [
    {
     "name": "stdout",
     "output_type": "stream",
     "text": [
      "\n",
      "Jumlah nilai null pada Setiap kolom sebelum cleaning : \n"
     ]
    },
    {
     "data": {
      "text/plain": [
       "Condition       0\n",
       "Drug            0\n",
       "EaseOfUse       0\n",
       "Effective       0\n",
       "Form            0\n",
       "Indication      0\n",
       "Price           0\n",
       "Reviews         0\n",
       "Satisfaction    0\n",
       "Type            0\n",
       "dtype: int64"
      ]
     },
     "execution_count": 13,
     "metadata": {},
     "output_type": "execute_result"
    }
   ],
   "source": [
    "dataset2 = df.copy()\n",
    "dataset2['Price'] = dataset2['Reviews'].astype('int64')\n",
    "print(\"\\nJumlah nilai null pada Setiap kolom sebelum cleaning : \")\n",
    "dataset2.isna().sum() "
   ]
  },
  {
   "cell_type": "markdown",
   "id": "5250af68-521a-47e0-88ce-270b6e9a345a",
   "metadata": {},
   "source": [
    "## Mengatasi nilai null pada kolom Price yang bertipe bilangan bulat (integer)\n",
    "\n",
    "### Metode Median"
   ]
  },
  {
   "cell_type": "markdown",
   "id": "bfb4b391-66b5-4b77-96dc-35b2adb112a2",
   "metadata": {},
   "source": [
    "##### disini saya menambahkan directory baru buat menambah nilai null"
   ]
  },
  {
   "cell_type": "code",
   "execution_count": 14,
   "id": "c5cef792-157a-4000-886e-643504083e92",
   "metadata": {},
   "outputs": [],
   "source": [
    "dict_baru = {}\n",
    "\n",
    "for ok in list(df.columns):\n",
    "    dict_baru[ok] = [np.nan]\n",
    "\n",
    "pd_baru = pd.DataFrame(dict_baru)\n",
    "pd_baru\n",
    "\n",
    "\n",
    "dataset2 = pd.concat([dataset2, pd_baru], ignore_index= True)"
   ]
  },
  {
   "cell_type": "code",
   "execution_count": 15,
   "id": "1eb86ec7-4ef1-4be2-aebe-bf422f606a5c",
   "metadata": {},
   "outputs": [
    {
     "name": "stdout",
     "output_type": "stream",
     "text": [
      "Jumlah Nilai Null pada kolom  Price sebelum >> 1\n",
      "\n",
      "Jumlah Nilai Null pada kolom  Price Setelah >> 0\n"
     ]
    }
   ],
   "source": [
    "dataset2.loc[1000:, 'Price'] = np.nan\n",
    "\n",
    "print(\"Jumlah Nilai Null pada kolom  Price sebelum >>\", dataset2['Price'].isna().sum())\n",
    "\n",
    "dataset2['Price'].fillna(dataset2['Price'].median(), inplace=True)\n",
    "\n",
    "print(\"\\nJumlah Nilai Null pada kolom  Price Setelah >>\", dataset2['Price'].isna().sum())"
   ]
  },
  {
   "cell_type": "markdown",
   "id": "1bd74083-9d6e-4b91-9bae-7efe88d4e0bd",
   "metadata": {},
   "source": [
    "### Metode Modus"
   ]
  },
  {
   "cell_type": "code",
   "execution_count": 16,
   "id": "9aff69bd-826c-4e05-9e59-f59a9ce0abdc",
   "metadata": {},
   "outputs": [],
   "source": [
    "dict_baru = {}\n",
    "\n",
    "for ok in list(df.columns):\n",
    "    dict_baru[ok] = [np.nan]\n",
    "\n",
    "pd_baru = pd.DataFrame(dict_baru)\n",
    "pd_baru\n",
    "\n",
    "\n",
    "dataset2 = pd.concat([dataset2, pd_baru], ignore_index= True)"
   ]
  },
  {
   "cell_type": "code",
   "execution_count": 17,
   "id": "eb29db61-f0a7-4892-ae88-e89a070da3ce",
   "metadata": {},
   "outputs": [
    {
     "name": "stdout",
     "output_type": "stream",
     "text": [
      "Jumlah Nilai Null pada kolom  Price sebelum >> 1\n",
      "\n",
      "Jumlah Nilai Null pada kolom  Price Setelah >> 0\n"
     ]
    }
   ],
   "source": [
    "dataset2.loc[1000:, 'Price'] = np.nan\n",
    "\n",
    "print(\"Jumlah Nilai Null pada kolom  Price sebelum >>\", dataset2['Price'].isna().sum())\n",
    "\n",
    "dataset2['Price'].fillna(dataset2['Price'].mode()[0], inplace=True)\n",
    "\n",
    "print(\"\\nJumlah Nilai Null pada kolom  Price Setelah >>\", dataset2['Price'].isna().sum())"
   ]
  },
  {
   "cell_type": "markdown",
   "id": "f43041cc-c1c3-41eb-8a4a-7fa0cb1846c4",
   "metadata": {},
   "source": [
    "### Metode Mean"
   ]
  },
  {
   "cell_type": "code",
   "execution_count": 24,
   "id": "6c1e6603-fd09-4283-8daa-65a1bc54e438",
   "metadata": {},
   "outputs": [],
   "source": [
    "dict_baru = {}\n",
    "\n",
    "for ok in list(df.columns):\n",
    "    dict_baru[ok] = [np.nan]\n",
    "\n",
    "pd_baru = pd.DataFrame(dict_baru)\n",
    "pd_baru\n",
    "\n",
    "\n",
    "dataset2 = pd.concat([dataset2, pd_baru], ignore_index= True)"
   ]
  },
  {
   "cell_type": "code",
   "execution_count": 25,
   "id": "db595c2e-7342-49c4-8e72-703e6f846f38",
   "metadata": {},
   "outputs": [
    {
     "name": "stdout",
     "output_type": "stream",
     "text": [
      "Jumlah Nilai Null pada kolom  Price sebelum >> 1\n",
      "\n",
      "Jumlah Nilai Null pada kolom  Price Setelah >> 0\n"
     ]
    }
   ],
   "source": [
    "dataset2.loc[1000:, 'Price'] = np.nan\n",
    "\n",
    "print(\"Jumlah Nilai Null pada kolom  Price sebelum >>\", dataset2['Price'].isna().sum())\n",
    "\n",
    "dataset2['Price'].fillna(dataset2['Price'].mean(), inplace=True)\n",
    "\n",
    "print(\"\\nJumlah Nilai Null pada kolom  Price Setelah >>\", dataset2['Price'].isna().sum())"
   ]
  },
  {
   "cell_type": "markdown",
   "id": "ffd31afb-4359-45b0-a522-4543dd3044c6",
   "metadata": {},
   "source": [
    "## Mengatasi nilai null pada kolom Effective yang bertipe bilangan desimal (Float)\n",
    "\n",
    "### Metode Median"
   ]
  },
  {
   "cell_type": "code",
   "execution_count": 20,
   "id": "cedee35e-0d32-4b00-8dcb-ade0bd9d5f50",
   "metadata": {},
   "outputs": [],
   "source": [
    "dict_baru = {}\n",
    "\n",
    "for ok in list(df.columns):\n",
    "    dict_baru[ok] = [np.nan]\n",
    "\n",
    "pd_baru = pd.DataFrame(dict_baru)\n",
    "pd_baru\n",
    "\n",
    "\n",
    "dataset2 = pd.concat([dataset2, pd_baru], ignore_index= True)"
   ]
  },
  {
   "cell_type": "code",
   "execution_count": 21,
   "id": "004d648d-8a28-4a3d-b840-0d736a8d7e35",
   "metadata": {},
   "outputs": [
    {
     "name": "stdout",
     "output_type": "stream",
     "text": [
      "Jumlah Nilai Null pada kolom  Effective sebelum >> 4\n",
      "\n",
      "Jumlah Nilai Null pada kolom  Effective Setelah >> 0\n"
     ]
    }
   ],
   "source": [
    "dataset2.loc[200000:, 'Effective'] = np.nan\n",
    "\n",
    "print(\"Jumlah Nilai Null pada kolom  Effective sebelum >>\", dataset2['Effective'].isna().sum())\n",
    "\n",
    "dataset2['Effective'].fillna(dataset2['Effective'].median(), inplace=True)\n",
    "\n",
    "print(\"\\nJumlah Nilai Null pada kolom  Effective Setelah >>\", dataset2['Effective'].isna().sum())"
   ]
  },
  {
   "cell_type": "markdown",
   "id": "e5930de7-ff0d-4400-8d3d-b840e9eba514",
   "metadata": {},
   "source": [
    "### Metode Modus"
   ]
  },
  {
   "cell_type": "code",
   "execution_count": 26,
   "id": "1a892388-e6e2-4b3e-aef4-f2a69813f821",
   "metadata": {},
   "outputs": [],
   "source": [
    "dict_baru = {}\n",
    "\n",
    "for ok in list(df.columns):\n",
    "    dict_baru[ok] = [np.nan]\n",
    "\n",
    "pd_baru = pd.DataFrame(dict_baru)\n",
    "pd_baru\n",
    "\n",
    "\n",
    "dataset2 = pd.concat([dataset2, pd_baru], ignore_index= True)"
   ]
  },
  {
   "cell_type": "code",
   "execution_count": 27,
   "id": "447ca868-bb7e-41f4-ad98-0d46b3a9b062",
   "metadata": {},
   "outputs": [
    {
     "name": "stdout",
     "output_type": "stream",
     "text": [
      "Jumlah Nilai Null pada kolom  Effective sebelum >> 2\n",
      "\n",
      "Jumlah Nilai Null pada kolom  Effective setelah >> 0\n"
     ]
    }
   ],
   "source": [
    "dataset2.loc[200000:, 'Effective'] = np.nan\n",
    "\n",
    "print(\"Jumlah Nilai Null pada kolom  Effective sebelum >>\", dataset2['Effective'].isna().sum())\n",
    "\n",
    "dataset2['Effective'].fillna(dataset2['Effective'].mode()[0], inplace=True)\n",
    "\n",
    "print(\"\\nJumlah Nilai Null pada kolom  Effective setelah >>\", dataset2['Effective'].isna().sum())"
   ]
  },
  {
   "cell_type": "markdown",
   "id": "ffb4a38a-6e29-499c-959f-7f40dda8193d",
   "metadata": {},
   "source": [
    "### Metode Mean"
   ]
  },
  {
   "cell_type": "code",
   "execution_count": 28,
   "id": "b6fcfab6-af54-4e41-9e60-28f76fc359da",
   "metadata": {},
   "outputs": [],
   "source": [
    "dict_baru = {}\n",
    "\n",
    "for ok in list(df.columns):\n",
    "    dict_baru[ok] = [np.nan]\n",
    "\n",
    "pd_baru = pd.DataFrame(dict_baru)\n",
    "pd_baru\n",
    "\n",
    "\n",
    "dataset2 = pd.concat([dataset2, pd_baru], ignore_index= True)"
   ]
  },
  {
   "cell_type": "code",
   "execution_count": 30,
   "id": "eb138ae5-d94f-4cc3-a18d-c22839d0301e",
   "metadata": {},
   "outputs": [
    {
     "name": "stdout",
     "output_type": "stream",
     "text": [
      "Jumlah Nilai Null pada kolom  Effective sebelum >> 1\n",
      "\n",
      "Jumlah Nilai Null pada kolom  Effective setelah >> 0\n"
     ]
    }
   ],
   "source": [
    "dataset2.loc[200000:, 'Effective'] = np.nan\n",
    "\n",
    "print(\"Jumlah Nilai Null pada kolom  Effective sebelum >>\", dataset2['Effective'].isna().sum())\n",
    "\n",
    "dataset2['Effective'].fillna(dataset2['Effective'].mean(), inplace=True)\n",
    "\n",
    "print(\"\\nJumlah Nilai Null pada kolom  Effective setelah >>\", dataset2['Effective'].isna().sum())"
   ]
  },
  {
   "cell_type": "markdown",
   "id": "7f2660be-59cd-4ee8-adc7-0fe7fa49cc6d",
   "metadata": {},
   "source": [
    "## Mengatasi nilai null pada kolom Drug yang bertipe Tulisan (String/Object)"
   ]
  },
  {
   "cell_type": "code",
   "execution_count": 31,
   "id": "9de7468f-9970-4a2b-885f-f251d81bfbd0",
   "metadata": {},
   "outputs": [],
   "source": [
    "dict_baru = {}\n",
    "\n",
    "for ok in list(df.columns):\n",
    "    dict_baru[ok] = [np.nan]\n",
    "\n",
    "pd_baru = pd.DataFrame(dict_baru)\n",
    "pd_baru\n",
    "\n",
    "\n",
    "dataset2 = pd.concat([dataset2, pd_baru], ignore_index= True)"
   ]
  },
  {
   "cell_type": "code",
   "execution_count": 32,
   "id": "1ad15763-b10f-4544-9989-a73231f35506",
   "metadata": {},
   "outputs": [
    {
     "name": "stdout",
     "output_type": "stream",
     "text": [
      "Jumlah Nilai Null pada kolom Drug sebelum >> 8\n",
      "\n",
      "Jumlah Nilai Null pada kolom Drug setelah >> 0\n"
     ]
    }
   ],
   "source": [
    "dataset2.loc[200000:, 'Drug'] = np.nan\n",
    "\n",
    "print(\"Jumlah Nilai Null pada kolom Drug sebelum >>\", dataset2['Drug'].isna().sum())\n",
    "\n",
    "dataset2['Drug'].fillna(dataset2['Drug'].mode()[0], inplace=True)\n",
    "\n",
    "print(\"\\nJumlah Nilai Null pada kolom Drug setelah >>\", dataset2['Drug'].isna().sum())"
   ]
  },
  {
   "cell_type": "markdown",
   "id": "8d4ccb5d-b655-4791-a4a9-830f7178d969",
   "metadata": {},
   "source": [
    "## Menampilkan jumlah nilai null setelah cleaning"
   ]
  },
  {
   "cell_type": "code",
   "execution_count": 37,
   "id": "2fb98668-3b9b-4ad3-92e8-b2176b1832f3",
   "metadata": {},
   "outputs": [
    {
     "name": "stdout",
     "output_type": "stream",
     "text": [
      "\n",
      "Jumlah nilai null pada Setiap kolom setelah cleaning : \n"
     ]
    },
    {
     "data": {
      "text/plain": [
       "Condition       0\n",
       "Drug            0\n",
       "EaseOfUse       0\n",
       "Effective       0\n",
       "Form            0\n",
       "Indication      0\n",
       "Price           0\n",
       "Reviews         0\n",
       "Satisfaction    0\n",
       "Type            0\n",
       "dtype: int64"
      ]
     },
     "execution_count": 37,
     "metadata": {},
     "output_type": "execute_result"
    }
   ],
   "source": [
    "print(\"\\nJumlah nilai null pada Setiap kolom setelah cleaning : \")\n",
    "dataset2.isna().sum()"
   ]
  },
  {
   "cell_type": "markdown",
   "id": "0fbbcf13-6116-4159-9b3e-477bf50d1765",
   "metadata": {},
   "source": [
    "## Membuat nilai duplikasi pada dataset dan menjumlahkan banyaknya data duplicat pada Data set"
   ]
  },
  {
   "cell_type": "code",
   "execution_count": 47,
   "id": "a3f31ec6-377e-4966-a2d6-06366f170df3",
   "metadata": {},
   "outputs": [
    {
     "data": {
      "text/plain": [
       "4"
      ]
     },
     "execution_count": 47,
     "metadata": {},
     "output_type": "execute_result"
    }
   ],
   "source": [
    "dataset2.iloc[100, :] = dataset2.iloc[101, :]\n",
    "dataset2.iloc[200, :] = dataset2.iloc[201, :]\n",
    "dataset2.iloc[300, :] = dataset2.iloc[301, :]\n",
    "dataset2.iloc[400, :] = dataset2.iloc[401, :]\n",
    "dataset2.duplicated().sum()"
   ]
  },
  {
   "cell_type": "markdown",
   "id": "0751551b-d191-49bd-a4c5-192d1b018ffa",
   "metadata": {},
   "source": [
    "## Mengatasi nilai Duplicate dengan menggunakan => (\"drop_duplicate\"), dan menghitung ulang banyaknya jumlah data duplikasi di dalam dataset"
   ]
  },
  {
   "cell_type": "code",
   "execution_count": 48,
   "id": "0ef4fc4e-ad14-44e8-920b-13d38b67e980",
   "metadata": {},
   "outputs": [
    {
     "data": {
      "text/plain": [
       "0"
      ]
     },
     "execution_count": 48,
     "metadata": {},
     "output_type": "execute_result"
    }
   ],
   "source": [
    "dataset2.drop_duplicates(inplace=True)\n",
    "dataset2.duplicated().sum()"
   ]
  },
  {
   "cell_type": "markdown",
   "id": "8512b72f-5b06-48ab-b836-f24cdbfe8786",
   "metadata": {},
   "source": [
    "### Mengganti tipe data pada slah satu attribute angka"
   ]
  },
  {
   "cell_type": "code",
   "execution_count": 49,
   "id": "1ea3e6ab-8bee-44ea-9d4b-790cfa0fbe79",
   "metadata": {},
   "outputs": [
    {
     "name": "stdout",
     "output_type": "stream",
     "text": [
      "Tipe data kolom 'Satisfaction' sebelum dirubah =>  float64\n"
     ]
    }
   ],
   "source": [
    "print(\"Tipe data kolom 'Satisfaction' sebelum dirubah => \", dataset2['Satisfaction'].dtypes )"
   ]
  },
  {
   "cell_type": "code",
   "execution_count": 50,
   "id": "16dcdf14-7cee-4d5c-9b14-0cf1500bbd4e",
   "metadata": {},
   "outputs": [
    {
     "name": "stdout",
     "output_type": "stream",
     "text": [
      "Tipe data kolom 'Satisfaction' setelah dirubah =>  int64\n"
     ]
    }
   ],
   "source": [
    "dataset2['Satisfaction'] = dataset2['Satisfaction'].astype('int64')\n",
    "print(\"Tipe data kolom 'Satisfaction' setelah dirubah => \", dataset2['Satisfaction'].dtypes )"
   ]
  },
  {
   "cell_type": "markdown",
   "id": "cff3fccd-f92e-4d23-820b-2508b312863f",
   "metadata": {},
   "source": [
    "### Menampilkan seluruh tipe data kolom"
   ]
  },
  {
   "cell_type": "code",
   "execution_count": 51,
   "id": "29271590-f433-45ad-93c8-4b7963cc8690",
   "metadata": {},
   "outputs": [
    {
     "name": "stdout",
     "output_type": "stream",
     "text": [
      "<class 'pandas.core.frame.DataFrame'>\n",
      "Int64Index: 681 entries, 0 to 684\n",
      "Data columns (total 10 columns):\n",
      " #   Column        Non-Null Count  Dtype  \n",
      "---  ------        --------------  -----  \n",
      " 0   Condition     681 non-null    object \n",
      " 1   Drug          681 non-null    object \n",
      " 2   EaseOfUse     681 non-null    float64\n",
      " 3   Effective     681 non-null    float64\n",
      " 4   Form          681 non-null    object \n",
      " 5   Indication    681 non-null    object \n",
      " 6   Price         681 non-null    int64  \n",
      " 7   Reviews       681 non-null    float64\n",
      " 8   Satisfaction  681 non-null    int64  \n",
      " 9   Type          681 non-null    object \n",
      "dtypes: float64(3), int64(2), object(5)\n",
      "memory usage: 58.5+ KB\n"
     ]
    }
   ],
   "source": [
    "dataset2.info()"
   ]
  },
  {
   "cell_type": "markdown",
   "id": "b9dfea3f-e441-4af3-868f-effa8b118663",
   "metadata": {},
   "source": [
    "## Encoding"
   ]
  },
  {
   "cell_type": "markdown",
   "id": "b64907c9-aa90-48dd-b51a-4893a6cc4de5",
   "metadata": {},
   "source": [
    "#### encoding data dri kolom Drug, dan merubah tipe datanya menjadi 1nt64"
   ]
  },
  {
   "cell_type": "code",
   "execution_count": 52,
   "id": "3ad3bb5b-84ee-405b-b22e-22140c74daed",
   "metadata": {},
   "outputs": [],
   "source": [
    "encoding = pd.get_dummies(df[['Drug']])\n",
    "dataset5 = df.join(encoding.astype('int64'))\n",
    "\n",
    "dataset5.drop('Drug', axis=1, inplace=True)"
   ]
  },
  {
   "cell_type": "markdown",
   "id": "5aba33e8-3167-499c-9d64-cf1f636a8a25",
   "metadata": {},
   "source": [
    "#### Menampilkan per row dari jumlah kolom yang di encoding tadi"
   ]
  },
  {
   "cell_type": "code",
   "execution_count": 53,
   "id": "1f13d5e2-a230-407a-9c02-a29d7e6b75be",
   "metadata": {},
   "outputs": [
    {
     "data": {
      "text/html": [
       "<div>\n",
       "<style scoped>\n",
       "    .dataframe tbody tr th:only-of-type {\n",
       "        vertical-align: middle;\n",
       "    }\n",
       "\n",
       "    .dataframe tbody tr th {\n",
       "        vertical-align: top;\n",
       "    }\n",
       "\n",
       "    .dataframe thead th {\n",
       "        text-align: right;\n",
       "    }\n",
       "</style>\n",
       "<table border=\"1\" class=\"dataframe\">\n",
       "  <thead>\n",
       "    <tr style=\"text-align: right;\">\n",
       "      <th></th>\n",
       "      <th>Condition</th>\n",
       "      <th>EaseOfUse</th>\n",
       "      <th>Effective</th>\n",
       "      <th>Form</th>\n",
       "      <th>Indication</th>\n",
       "      <th>Price</th>\n",
       "      <th>Reviews</th>\n",
       "      <th>Satisfaction</th>\n",
       "      <th>Type</th>\n",
       "      <th>Drug_ASA-Acetaminophen-Salicyl-Caff</th>\n",
       "      <th>...</th>\n",
       "      <th>Drug_Ursodiol</th>\n",
       "      <th>Drug_Valacyclovir</th>\n",
       "      <th>Drug_Valsartan</th>\n",
       "      <th>Drug_Valsartan-Hydrochlorothiazide</th>\n",
       "      <th>Drug_Verapamil</th>\n",
       "      <th>Drug_Vit E-Glycerin-Dimethicone</th>\n",
       "      <th>Drug_Vit E-Glycerin-Dimethicone, Glycerin-Dimethicone-Petro, Wh</th>\n",
       "      <th>Drug_Vit E-Grape-Hyaluronate Sodium</th>\n",
       "      <th>Drug_Zanamivir</th>\n",
       "      <th>Drug_Zinc Oxide</th>\n",
       "    </tr>\n",
       "  </thead>\n",
       "  <tbody>\n",
       "    <tr>\n",
       "      <th>0</th>\n",
       "      <td>Acute Bacterial Sinusitis</td>\n",
       "      <td>3.852353</td>\n",
       "      <td>3.655882</td>\n",
       "      <td>Capsule</td>\n",
       "      <td>On Label</td>\n",
       "      <td>12.590000</td>\n",
       "      <td>86.294118</td>\n",
       "      <td>3.197647</td>\n",
       "      <td>RX</td>\n",
       "      <td>0</td>\n",
       "      <td>...</td>\n",
       "      <td>0</td>\n",
       "      <td>0</td>\n",
       "      <td>0</td>\n",
       "      <td>0</td>\n",
       "      <td>0</td>\n",
       "      <td>0</td>\n",
       "      <td>0</td>\n",
       "      <td>0</td>\n",
       "      <td>0</td>\n",
       "      <td>0</td>\n",
       "    </tr>\n",
       "    <tr>\n",
       "      <th>1</th>\n",
       "      <td>Acute Bacterial Sinusitis</td>\n",
       "      <td>3.470000</td>\n",
       "      <td>3.290000</td>\n",
       "      <td>Liquid (Drink)</td>\n",
       "      <td>Off Label</td>\n",
       "      <td>287.370000</td>\n",
       "      <td>43.000000</td>\n",
       "      <td>2.590000</td>\n",
       "      <td>RX</td>\n",
       "      <td>0</td>\n",
       "      <td>...</td>\n",
       "      <td>0</td>\n",
       "      <td>0</td>\n",
       "      <td>0</td>\n",
       "      <td>0</td>\n",
       "      <td>0</td>\n",
       "      <td>0</td>\n",
       "      <td>0</td>\n",
       "      <td>0</td>\n",
       "      <td>0</td>\n",
       "      <td>0</td>\n",
       "    </tr>\n",
       "    <tr>\n",
       "      <th>2</th>\n",
       "      <td>Acute Bacterial Sinusitis</td>\n",
       "      <td>3.121429</td>\n",
       "      <td>2.962857</td>\n",
       "      <td>Tablet</td>\n",
       "      <td>On Label</td>\n",
       "      <td>70.608571</td>\n",
       "      <td>267.285714</td>\n",
       "      <td>2.248571</td>\n",
       "      <td>RX</td>\n",
       "      <td>0</td>\n",
       "      <td>...</td>\n",
       "      <td>0</td>\n",
       "      <td>0</td>\n",
       "      <td>0</td>\n",
       "      <td>0</td>\n",
       "      <td>0</td>\n",
       "      <td>0</td>\n",
       "      <td>0</td>\n",
       "      <td>0</td>\n",
       "      <td>0</td>\n",
       "      <td>0</td>\n",
       "    </tr>\n",
       "    <tr>\n",
       "      <th>3</th>\n",
       "      <td>Acute Bacterial Sinusitis</td>\n",
       "      <td>2.000000</td>\n",
       "      <td>3.000000</td>\n",
       "      <td>Capsule</td>\n",
       "      <td>On Label</td>\n",
       "      <td>12.590000</td>\n",
       "      <td>1.000000</td>\n",
       "      <td>1.000000</td>\n",
       "      <td>RX</td>\n",
       "      <td>0</td>\n",
       "      <td>...</td>\n",
       "      <td>0</td>\n",
       "      <td>0</td>\n",
       "      <td>0</td>\n",
       "      <td>0</td>\n",
       "      <td>0</td>\n",
       "      <td>0</td>\n",
       "      <td>0</td>\n",
       "      <td>0</td>\n",
       "      <td>0</td>\n",
       "      <td>0</td>\n",
       "    </tr>\n",
       "    <tr>\n",
       "      <th>4</th>\n",
       "      <td>Acute Bacterial Sinusitis</td>\n",
       "      <td>3.250000</td>\n",
       "      <td>3.000000</td>\n",
       "      <td>Tablet</td>\n",
       "      <td>On Label</td>\n",
       "      <td>125.240000</td>\n",
       "      <td>15.000000</td>\n",
       "      <td>3.000000</td>\n",
       "      <td>RX</td>\n",
       "      <td>0</td>\n",
       "      <td>...</td>\n",
       "      <td>0</td>\n",
       "      <td>0</td>\n",
       "      <td>0</td>\n",
       "      <td>0</td>\n",
       "      <td>0</td>\n",
       "      <td>0</td>\n",
       "      <td>0</td>\n",
       "      <td>0</td>\n",
       "      <td>0</td>\n",
       "      <td>0</td>\n",
       "    </tr>\n",
       "    <tr>\n",
       "      <th>...</th>\n",
       "      <td>...</td>\n",
       "      <td>...</td>\n",
       "      <td>...</td>\n",
       "      <td>...</td>\n",
       "      <td>...</td>\n",
       "      <td>...</td>\n",
       "      <td>...</td>\n",
       "      <td>...</td>\n",
       "      <td>...</td>\n",
       "      <td>...</td>\n",
       "      <td>...</td>\n",
       "      <td>...</td>\n",
       "      <td>...</td>\n",
       "      <td>...</td>\n",
       "      <td>...</td>\n",
       "      <td>...</td>\n",
       "      <td>...</td>\n",
       "      <td>...</td>\n",
       "      <td>...</td>\n",
       "      <td>...</td>\n",
       "      <td>...</td>\n",
       "    </tr>\n",
       "    <tr>\n",
       "      <th>680</th>\n",
       "      <td>vulvovaginal candidiasis</td>\n",
       "      <td>3.465000</td>\n",
       "      <td>2.770000</td>\n",
       "      <td>Cream</td>\n",
       "      <td>On Label</td>\n",
       "      <td>13.990000</td>\n",
       "      <td>19.500000</td>\n",
       "      <td>2.345000</td>\n",
       "      <td>RX/OTC</td>\n",
       "      <td>0</td>\n",
       "      <td>...</td>\n",
       "      <td>0</td>\n",
       "      <td>0</td>\n",
       "      <td>0</td>\n",
       "      <td>0</td>\n",
       "      <td>0</td>\n",
       "      <td>0</td>\n",
       "      <td>0</td>\n",
       "      <td>0</td>\n",
       "      <td>0</td>\n",
       "      <td>0</td>\n",
       "    </tr>\n",
       "    <tr>\n",
       "      <th>681</th>\n",
       "      <td>vulvovaginal candidiasis</td>\n",
       "      <td>4.750000</td>\n",
       "      <td>3.000000</td>\n",
       "      <td>Cream</td>\n",
       "      <td>On Label</td>\n",
       "      <td>13.990000</td>\n",
       "      <td>4.000000</td>\n",
       "      <td>3.000000</td>\n",
       "      <td>OTC</td>\n",
       "      <td>0</td>\n",
       "      <td>...</td>\n",
       "      <td>0</td>\n",
       "      <td>0</td>\n",
       "      <td>0</td>\n",
       "      <td>0</td>\n",
       "      <td>0</td>\n",
       "      <td>0</td>\n",
       "      <td>0</td>\n",
       "      <td>0</td>\n",
       "      <td>0</td>\n",
       "      <td>0</td>\n",
       "    </tr>\n",
       "    <tr>\n",
       "      <th>682</th>\n",
       "      <td>vulvovaginal candidiasis</td>\n",
       "      <td>4.000000</td>\n",
       "      <td>1.000000</td>\n",
       "      <td>Other</td>\n",
       "      <td>On Label</td>\n",
       "      <td>125.990000</td>\n",
       "      <td>1.000000</td>\n",
       "      <td>1.000000</td>\n",
       "      <td>OTC</td>\n",
       "      <td>0</td>\n",
       "      <td>...</td>\n",
       "      <td>0</td>\n",
       "      <td>0</td>\n",
       "      <td>0</td>\n",
       "      <td>0</td>\n",
       "      <td>0</td>\n",
       "      <td>0</td>\n",
       "      <td>0</td>\n",
       "      <td>0</td>\n",
       "      <td>0</td>\n",
       "      <td>0</td>\n",
       "    </tr>\n",
       "    <tr>\n",
       "      <th>683</th>\n",
       "      <td>vulvovaginal candidiasis</td>\n",
       "      <td>3.525000</td>\n",
       "      <td>3.047500</td>\n",
       "      <td>Cream</td>\n",
       "      <td>On Label</td>\n",
       "      <td>68.990000</td>\n",
       "      <td>20.000000</td>\n",
       "      <td>2.717500</td>\n",
       "      <td>RX</td>\n",
       "      <td>0</td>\n",
       "      <td>...</td>\n",
       "      <td>0</td>\n",
       "      <td>0</td>\n",
       "      <td>0</td>\n",
       "      <td>0</td>\n",
       "      <td>0</td>\n",
       "      <td>0</td>\n",
       "      <td>0</td>\n",
       "      <td>0</td>\n",
       "      <td>0</td>\n",
       "      <td>0</td>\n",
       "    </tr>\n",
       "    <tr>\n",
       "      <th>684</th>\n",
       "      <td>vulvovaginal candidiasis</td>\n",
       "      <td>3.852500</td>\n",
       "      <td>2.022500</td>\n",
       "      <td>Other</td>\n",
       "      <td>On Label</td>\n",
       "      <td>22.990000</td>\n",
       "      <td>145.000000</td>\n",
       "      <td>1.827500</td>\n",
       "      <td>OTC</td>\n",
       "      <td>0</td>\n",
       "      <td>...</td>\n",
       "      <td>0</td>\n",
       "      <td>0</td>\n",
       "      <td>0</td>\n",
       "      <td>0</td>\n",
       "      <td>0</td>\n",
       "      <td>0</td>\n",
       "      <td>0</td>\n",
       "      <td>0</td>\n",
       "      <td>0</td>\n",
       "      <td>0</td>\n",
       "    </tr>\n",
       "  </tbody>\n",
       "</table>\n",
       "<p>685 rows × 479 columns</p>\n",
       "</div>"
      ],
      "text/plain": [
       "                     Condition  EaseOfUse  Effective            Form  \\\n",
       "0    Acute Bacterial Sinusitis   3.852353   3.655882         Capsule   \n",
       "1    Acute Bacterial Sinusitis   3.470000   3.290000  Liquid (Drink)   \n",
       "2    Acute Bacterial Sinusitis   3.121429   2.962857          Tablet   \n",
       "3    Acute Bacterial Sinusitis   2.000000   3.000000         Capsule   \n",
       "4    Acute Bacterial Sinusitis   3.250000   3.000000          Tablet   \n",
       "..                         ...        ...        ...             ...   \n",
       "680   vulvovaginal candidiasis   3.465000   2.770000           Cream   \n",
       "681   vulvovaginal candidiasis   4.750000   3.000000           Cream   \n",
       "682   vulvovaginal candidiasis   4.000000   1.000000           Other   \n",
       "683   vulvovaginal candidiasis   3.525000   3.047500           Cream   \n",
       "684   vulvovaginal candidiasis   3.852500   2.022500           Other   \n",
       "\n",
       "    Indication       Price     Reviews  Satisfaction    Type  \\\n",
       "0     On Label   12.590000   86.294118      3.197647      RX   \n",
       "1    Off Label  287.370000   43.000000      2.590000      RX   \n",
       "2     On Label   70.608571  267.285714      2.248571      RX   \n",
       "3     On Label   12.590000    1.000000      1.000000      RX   \n",
       "4     On Label  125.240000   15.000000      3.000000      RX   \n",
       "..         ...         ...         ...           ...     ...   \n",
       "680   On Label   13.990000   19.500000      2.345000  RX/OTC   \n",
       "681   On Label   13.990000    4.000000      3.000000     OTC   \n",
       "682   On Label  125.990000    1.000000      1.000000     OTC   \n",
       "683   On Label   68.990000   20.000000      2.717500      RX   \n",
       "684   On Label   22.990000  145.000000      1.827500     OTC   \n",
       "\n",
       "     Drug_ASA-Acetaminophen-Salicyl-Caff  ...  Drug_Ursodiol  \\\n",
       "0                                      0  ...              0   \n",
       "1                                      0  ...              0   \n",
       "2                                      0  ...              0   \n",
       "3                                      0  ...              0   \n",
       "4                                      0  ...              0   \n",
       "..                                   ...  ...            ...   \n",
       "680                                    0  ...              0   \n",
       "681                                    0  ...              0   \n",
       "682                                    0  ...              0   \n",
       "683                                    0  ...              0   \n",
       "684                                    0  ...              0   \n",
       "\n",
       "     Drug_Valacyclovir  Drug_Valsartan  Drug_Valsartan-Hydrochlorothiazide  \\\n",
       "0                    0               0                                   0   \n",
       "1                    0               0                                   0   \n",
       "2                    0               0                                   0   \n",
       "3                    0               0                                   0   \n",
       "4                    0               0                                   0   \n",
       "..                 ...             ...                                 ...   \n",
       "680                  0               0                                   0   \n",
       "681                  0               0                                   0   \n",
       "682                  0               0                                   0   \n",
       "683                  0               0                                   0   \n",
       "684                  0               0                                   0   \n",
       "\n",
       "     Drug_Verapamil  Drug_Vit E-Glycerin-Dimethicone  \\\n",
       "0                 0                                0   \n",
       "1                 0                                0   \n",
       "2                 0                                0   \n",
       "3                 0                                0   \n",
       "4                 0                                0   \n",
       "..              ...                              ...   \n",
       "680               0                                0   \n",
       "681               0                                0   \n",
       "682               0                                0   \n",
       "683               0                                0   \n",
       "684               0                                0   \n",
       "\n",
       "     Drug_Vit E-Glycerin-Dimethicone, Glycerin-Dimethicone-Petro, Wh  \\\n",
       "0                                                    0                 \n",
       "1                                                    0                 \n",
       "2                                                    0                 \n",
       "3                                                    0                 \n",
       "4                                                    0                 \n",
       "..                                                 ...                 \n",
       "680                                                  0                 \n",
       "681                                                  0                 \n",
       "682                                                  0                 \n",
       "683                                                  0                 \n",
       "684                                                  0                 \n",
       "\n",
       "     Drug_Vit E-Grape-Hyaluronate Sodium  Drug_Zanamivir  Drug_Zinc Oxide  \n",
       "0                                      0               0                0  \n",
       "1                                      0               0                0  \n",
       "2                                      0               0                0  \n",
       "3                                      0               0                0  \n",
       "4                                      0               0                0  \n",
       "..                                   ...             ...              ...  \n",
       "680                                    0               0                0  \n",
       "681                                    0               0                0  \n",
       "682                                    0               0                0  \n",
       "683                                    0               0                0  \n",
       "684                                    0               0                0  \n",
       "\n",
       "[685 rows x 479 columns]"
      ]
     },
     "execution_count": 53,
     "metadata": {},
     "output_type": "execute_result"
    }
   ],
   "source": [
    "dataset5"
   ]
  },
  {
   "cell_type": "code",
   "execution_count": null,
   "id": "cdf318ae-a694-4ed0-8d85-4c44bffb88d5",
   "metadata": {},
   "outputs": [],
   "source": []
  }
 ],
 "metadata": {
  "kernelspec": {
   "display_name": "hudzai_089",
   "language": "python",
   "name": "hudzai_089"
  },
  "language_info": {
   "codemirror_mode": {
    "name": "ipython",
    "version": 3
   },
   "file_extension": ".py",
   "mimetype": "text/x-python",
   "name": "python",
   "nbconvert_exporter": "python",
   "pygments_lexer": "ipython3",
   "version": "3.10.7"
  }
 },
 "nbformat": 4,
 "nbformat_minor": 5
}
